{
 "cells": [
  {
   "cell_type": "code",
   "execution_count": 2,
   "metadata": {},
   "outputs": [
    {
     "name": "stdout",
     "output_type": "stream",
     "text": [
      "Hello world\n"
     ]
    }
   ],
   "source": [
    "print(\"Hello world\")"
   ]
  },
  {
   "cell_type": "code",
   "execution_count": 3,
   "metadata": {},
   "outputs": [],
   "source": [
    "a=int('22')\n",
    " "
   ]
  },
  {
   "cell_type": "code",
   "execution_count": 4,
   "metadata": {},
   "outputs": [
    {
     "data": {
      "text/plain": [
       "int"
      ]
     },
     "execution_count": 4,
     "metadata": {},
     "output_type": "execute_result"
    }
   ],
   "source": [
    "type(a)"
   ]
  },
  {
   "cell_type": "code",
   "execution_count": 5,
   "metadata": {},
   "outputs": [
    {
     "data": {
      "text/plain": [
       "15"
      ]
     },
     "execution_count": 5,
     "metadata": {},
     "output_type": "execute_result"
    }
   ],
   "source": [
    "0xf"
   ]
  },
  {
   "cell_type": "code",
   "execution_count": 6,
   "metadata": {},
   "outputs": [
    {
     "data": {
      "text/plain": [
       "255"
      ]
     },
     "execution_count": 6,
     "metadata": {},
     "output_type": "execute_result"
    }
   ],
   "source": [
    "0xff"
   ]
  },
  {
   "cell_type": "code",
   "execution_count": 7,
   "metadata": {},
   "outputs": [
    {
     "data": {
      "text/plain": [
       "253"
      ]
     },
     "execution_count": 7,
     "metadata": {},
     "output_type": "execute_result"
    }
   ],
   "source": [
    "0xfd"
   ]
  },
  {
   "cell_type": "code",
   "execution_count": 8,
   "metadata": {},
   "outputs": [
    {
     "data": {
      "text/plain": [
       "15"
      ]
     },
     "execution_count": 8,
     "metadata": {},
     "output_type": "execute_result"
    }
   ],
   "source": [
    "0xf"
   ]
  },
  {
   "cell_type": "code",
   "execution_count": 9,
   "metadata": {},
   "outputs": [
    {
     "data": {
      "text/plain": [
       "192"
      ]
     },
     "execution_count": 9,
     "metadata": {},
     "output_type": "execute_result"
    }
   ],
   "source": [
    "0xc0"
   ]
  },
  {
   "cell_type": "code",
   "execution_count": 1,
   "metadata": {},
   "outputs": [
    {
     "data": {
      "text/plain": [
       "int"
      ]
     },
     "execution_count": 1,
     "metadata": {},
     "output_type": "execute_result"
    }
   ],
   "source": [
    "type(int(input(\"Hello world\")))"
   ]
  },
  {
   "cell_type": "code",
   "execution_count": null,
   "metadata": {},
   "outputs": [
    {
     "name": "stdout",
     "output_type": "stream",
     "text": [
      "it's \"Hello world\"\n",
      "it's \"Hello world\" \n",
      "it's \"hello world\"\n",
      "it's \"Hello\\ world\"\n"
     ]
    }
   ],
   "source": [
    "print(('''it's \"Hello world\"'''))\n",
    "print(\"\"\"it's \"Hello world\" \"\"\")\n",
    "print(\"it's \\\"hello world\\\"\")\n",
    "print('it\\'s \"Hello\\\\ world\"')"
   ]
  },
  {
   "cell_type": "code",
   "execution_count": null,
   "metadata": {},
   "outputs": [
    {
     "name": "stdout",
     "output_type": "stream",
     "text": [
      "hi        meeran world\n"
     ]
    }
   ],
   "source": [
    "print('hi','meeran',sep=\"        \", end=' ',)\n",
    "print('world')"
   ]
  },
  {
   "cell_type": "code",
   "execution_count": null,
   "metadata": {},
   "outputs": [
    {
     "name": "stdout",
     "output_type": "stream",
     "text": [
      "1 2 3\n"
     ]
    }
   ],
   "source": [
    "a=1;b=2;c=3\n",
    "print(a,b,c)"
   ]
  },
  {
   "cell_type": "code",
   "execution_count": null,
   "metadata": {},
   "outputs": [
    {
     "name": "stdout",
     "output_type": "stream",
     "text": [
      "1\n",
      "2\n",
      "3\n",
      "this is end"
     ]
    }
   ],
   "source": [
    "a=1;b=2;c=3\n",
    "print(a,b,c , sep='\\n', end=\"\\nthis is end\")"
   ]
  },
  {
   "cell_type": "code",
   "execution_count": null,
   "metadata": {},
   "outputs": [
    {
     "name": "stdout",
     "output_type": "stream",
     "text": [
      "hello world\n"
     ]
    },
    {
     "data": {
      "text/plain": [
       "11"
      ]
     },
     "execution_count": 14,
     "metadata": {},
     "output_type": "execute_result"
    }
   ],
   "source": [
    "s = 'hello world'\n",
    "print(s)\n",
    "len(s)"
   ]
  },
  {
   "cell_type": "markdown",
   "metadata": {},
   "source": [
    "<pre>\n",
    "1 2 3 4 5 6 7 8 9 10 11   #counting len\n",
    "h e l l o   w o r l  d    #string \n",
    "0 1 2 3 4 5 6 7 8 9 10    #index \n",
    "</pre>"
   ]
  },
  {
   "cell_type": "code",
   "execution_count": null,
   "metadata": {},
   "outputs": [
    {
     "name": "stdout",
     "output_type": "stream",
     "text": [
      "51\n",
      "53\n",
      "55\n",
      "57\n",
      "59\n",
      "61\n",
      "63\n",
      "65\n",
      "67\n",
      "69\n"
     ]
    }
   ],
   "source": [
    "for i in range(51, 70, 2):\n",
    "    print(i)"
   ]
  },
  {
   "cell_type": "code",
   "execution_count": null,
   "metadata": {},
   "outputs": [
    {
     "data": {
      "text/plain": [
       "' nareem'"
      ]
     },
     "execution_count": 34,
     "metadata": {},
     "output_type": "execute_result"
    }
   ],
   "source": [
    "# ----------------- Slicing -------------\n",
    "s = \"my name is meeran husain I'm pursuing Btech in Computer Science and Engineering\"\n",
    "s[17: 10: -1]"
   ]
  },
  {
   "cell_type": "code",
   "execution_count": null,
   "metadata": {},
   "outputs": [
    {
     "name": "stdout",
     "output_type": "stream",
     "text": [
      "6\n",
      "6\n",
      "6\n"
     ]
    }
   ],
   "source": [
    "# a,b,c=1,2,3\n",
    "print(a)\n",
    "print(b)\n",
    "print(c)\n",
    "\n",
    "# a,b,c=6  ----> this will throw error\n",
    "a=b=c=6\n"
   ]
  },
  {
   "cell_type": "code",
   "execution_count": null,
   "metadata": {},
   "outputs": [
    {
     "name": "stdout",
     "output_type": "stream",
     "text": [
      "False\n"
     ]
    }
   ],
   "source": [
    "s=str(123)\n",
    "if (s == s[::-1]):\n",
    "    print(True)\n",
    "else:\n",
    "    print(False)"
   ]
  },
  {
   "cell_type": "code",
   "execution_count": null,
   "metadata": {},
   "outputs": [
    {
     "name": "stdout",
     "output_type": "stream",
     "text": [
      "even\n"
     ]
    }
   ],
   "source": [
    "s=100\n",
    "if (s%2==0):\n",
    "    print(\"even\")\n",
    "else:\n",
    "    print(\"odd\")"
   ]
  },
  {
   "cell_type": "code",
   "execution_count": null,
   "metadata": {},
   "outputs": [
    {
     "name": "stdout",
     "output_type": "stream",
     "text": [
      "*****\n",
      "****\n",
      "***\n",
      "**\n",
      "*\n"
     ]
    }
   ],
   "source": [
    "print('*' * 5, '*' * 4, '*' * 3, '*' * 2, '*' * 1, sep='\\n')"
   ]
  },
  {
   "cell_type": "code",
   "execution_count": null,
   "metadata": {},
   "outputs": [
    {
     "name": "stdout",
     "output_type": "stream",
     "text": [
      "positive\n"
     ]
    }
   ],
   "source": [
    "# Nested If else statement:-\n",
    "num = int(input(\"Enter the number\"))\n",
    "if (num>0):\n",
    "    print(\"positive\")\n",
    "else:\n",
    "    if(num==0):\n",
    "        print(\"zero\")\n",
    "    else:\n",
    "        print(\"negative\")"
   ]
  },
  {
   "cell_type": "code",
   "execution_count": null,
   "metadata": {},
   "outputs": [
    {
     "name": "stdout",
     "output_type": "stream",
     "text": [
      "positive\n"
     ]
    }
   ],
   "source": [
    "# ------This will show error--------\n",
    "# num = int(input(\"Enter the number\"))\n",
    "# if (num>0):\n",
    "#     print(\"positive\")\n",
    "#     if(num==0):\n",
    "#         print(\"zero\")\n",
    "# else:\n",
    "#     print(\"negative\")"
   ]
  },
  {
   "cell_type": "code",
   "execution_count": null,
   "metadata": {},
   "outputs": [
    {
     "name": "stdout",
     "output_type": "stream",
     "text": [
      "zero\n"
     ]
    }
   ],
   "source": [
    "num = 0\n",
    "if (num>0):\n",
    "    print(\"positive\")\n",
    "elif(num==0):\n",
    "    print(\"zero\")\n",
    "else:\n",
    "    print(\"negative\")"
   ]
  },
  {
   "cell_type": "code",
   "execution_count": null,
   "metadata": {},
   "outputs": [
    {
     "data": {
      "text/plain": [
       "True"
      ]
     },
     "execution_count": 102,
     "metadata": {},
     "output_type": "execute_result"
    }
   ],
   "source": [
    "# Ternary operator\n",
    "num = 1\n",
    "result = True if num>0 else False\n",
    "result"
   ]
  },
  {
   "cell_type": "code",
   "execution_count": null,
   "metadata": {},
   "outputs": [
    {
     "data": {
      "text/plain": [
       "'not a leap year'"
      ]
     },
     "execution_count": 124,
     "metadata": {},
     "output_type": "execute_result"
    }
   ],
   "source": [
    "# leap year using teranary operator\n",
    "year = 1500\n",
    "result = 'Leap' if ((year%400==0) or ((year%4==0) and (year%100!=0))) else 'not a leap year'\n",
    "result"
   ]
  },
  {
   "cell_type": "code",
   "execution_count": null,
   "metadata": {},
   "outputs": [
    {
     "name": "stdout",
     "output_type": "stream",
     "text": [
      "leap year\n"
     ]
    }
   ],
   "source": [
    "# leap year code without using and or operators\n",
    "year = 2024\n",
    "if (year%400==0):\n",
    "    print('leap')\n",
    "elif (year%4==0):\n",
    "    if (year%100!=0):\n",
    "        print(\"leap year\")\n",
    "    else:\n",
    "        print('this is not a leap')\n",
    "else:\n",
    "    print('not a leap')"
   ]
  },
  {
   "cell_type": "code",
   "execution_count": null,
   "metadata": {},
   "outputs": [
    {
     "name": "stdout",
     "output_type": "stream",
     "text": [
      "leap\n"
     ]
    }
   ],
   "source": [
    "# Leap year using and or operators\n",
    "year = 1600\n",
    "if (year%400==0) or (year%4==0 and year%100!=0):\n",
    "    print('leap')\n",
    "else:\n",
    "    print('not a leap')"
   ]
  },
  {
   "cell_type": "code",
   "execution_count": null,
   "metadata": {},
   "outputs": [
    {
     "name": "stdout",
     "output_type": "stream",
     "text": [
      "Hi! supplier \n",
      "Welcome to customer portal supplier\n",
      "welcome meeran you're age is 25 \n",
      "end\n"
     ]
    }
   ],
   "source": [
    "identify = input('identify yourself: customer or supplier').lower()\n",
    "\n",
    "if identify in ('customer','supplier'):\n",
    "    # print(\"Hi! {identify} Welcome to customer portal\")\n",
    "    print(f\"Hi! {identify} \\nWelcome to customer portal\",format(identify))\n",
    "    \n",
    "    name = input(\"Enter your name\")\n",
    "    age = int(input(\"Enter your age\"))\n",
    "    print(f\"welcome {name} you're age is {age} \")\n",
    "    if(age<18):\n",
    "        print('you are not allowed to use the system')\n",
    "        print(f'see you after {18-age}')\n",
    "    # elif identify=='customer':\n",
    "    else:\n",
    "        print('end')\n",
    "else:\n",
    "    print(\"you are not allowed to use this system as of you are not valid user type\")"
   ]
  },
  {
   "cell_type": "code",
   "execution_count": null,
   "metadata": {},
   "outputs": [
    {
     "name": "stdout",
     "output_type": "stream",
     "text": [
      "This is a with val \"range(0, 45)\" and b with val hello and the sum is 49\n"
     ]
    },
    {
     "data": {
      "text/plain": [
       "'45 this is a     49 this is b'"
      ]
     },
     "execution_count": 167,
     "metadata": {},
     "output_type": "execute_result"
    }
   ],
   "source": [
    "a =12.87\n",
    "b = 4\n",
    "a=45\n",
    "\n",
    "# print(f'This is a with val \"{range(int(a))}\" and b with val {'hi' if b>1 else 'hello'} and the sum is {a+b}')\n",
    "\n",
    "print('This is a with val \"{}\" and b with val {} and the sum is {}'.format(range(int(a)), 'hi' if b<1 else 'hello', a+b))\n",
    "\n",
    "\n",
    "'{} this is a     {} this is b'.format(a,b+a)\n"
   ]
  },
  {
   "cell_type": "code",
   "execution_count": null,
   "metadata": {},
   "outputs": [
    {
     "name": "stdout",
     "output_type": "stream",
     "text": [
      "C:\\Users\\DELL\\Pictures\\Screenshots\\Screenshot 2024-07-19 212011.png \n",
      "C:\\Users\\DELL\\Pictures\\Screenshots\\Screenshot 2024-07-19 212011.png 45\n"
     ]
    }
   ],
   "source": [
    "print(\"C:\\\\Users\\\\DELL\\\\Pictures\\\\Screenshots\\\\Screenshot 2024-07-19 212011.png \")\n",
    "\n",
    "print(r\"C:\\Users\\DELL\\Pictures\\Screenshots\\Screenshot 2024-07-19 212011.png {}\".format(a))"
   ]
  },
  {
   "cell_type": "code",
   "execution_count": null,
   "metadata": {},
   "outputs": [
    {
     "name": "stdout",
     "output_type": "stream",
     "text": [
      "Hello world\n",
      "HELLO WORLD\n",
      "hello world\n",
      "11\n",
      "1\n",
      "['hello', 'world']\n",
      "True\n",
      "6\n",
      "hi world\n",
      "6\n",
      "False\n",
      "a7\n",
      "         a7\n",
      "a7      \n"
     ]
    }
   ],
   "source": [
    "# ---------- String methods ---------\n",
    "a = 'hello world'\n",
    "print(a.capitalize())\n",
    "print(a.upper())\n",
    "print(a.lower())\n",
    "print(len(a))\n",
    "print(a.count('h'))\n",
    "print(a.split())\n",
    "print(a.endswith('d')) #check value is end with this or not \n",
    "print(a.find('world')) #indexing \n",
    "print(a.replace('hello', 'hi')) \n",
    "print(a.index('world'))  #same indexing\n",
    "a='         a7      '\n",
    "print(a.isdigit()) # give answer in boolean format true or false\n",
    "print(a.strip())\n",
    "print(a.rstrip())\n",
    "print(a.lstrip())"
   ]
  },
  {
   "cell_type": "code",
   "execution_count": 3,
   "metadata": {},
   "outputs": [
    {
     "name": "stdout",
     "output_type": "stream",
     "text": [
      "1\n",
      "2\n",
      "3\n",
      "4\n",
      "5\n",
      "6\n",
      "7\n",
      "8\n",
      "9\n",
      "10\n"
     ]
    }
   ],
   "source": [
    "for i in range(1,11):\n",
    "    print(i)"
   ]
  },
  {
   "cell_type": "code",
   "execution_count": 11,
   "metadata": {},
   "outputs": [
    {
     "name": "stdout",
     "output_type": "stream",
     "text": [
      "151 prime for loop\n",
      "157 prime for loop\n",
      "163 prime for loop\n",
      "167 prime for loop\n",
      "173 prime for loop\n",
      "179 prime for loop\n",
      "151 prime while loop\n",
      "157 prime while loop\n",
      "163 prime while loop\n",
      "167 prime while loop\n",
      "173 prime while loop\n",
      "179 prime while loop\n"
     ]
    }
   ],
   "source": [
    "# for i in range(1, 11):\n",
    "#     print('2 x {} = {}'.format(i,i*2))\n",
    "    \n",
    "# for i in range(80,97,2):\n",
    "    # print(i)\n",
    "\n",
    "# i = 1\n",
    "# while (i<11):\n",
    "#     print('2 X {} = {}'.format(i,i*2))\n",
    "#     i=i+1\n",
    "\n",
    "# i = 81\n",
    "# while (i<97):\n",
    "#     print(i)\n",
    "#     i=i+2\n",
    "\n",
    "# num = int(input('Enter the number'))\n",
    "# count = 0\n",
    "# for i in range(1,num+1):   # prime number code\n",
    "#     if num%i == 0: \n",
    "#         count+=1\n",
    "# if count <= 2:\n",
    "#     print(num,\"is a prime number\")\n",
    "# else:\n",
    "#     print(num,\"not a prime number\")\n",
    "    \n",
    "    \n",
    "count = 0\n",
    "for i in range(151,180):\n",
    "    for j in range(1,i+1):\n",
    "        if i%j == 0:\n",
    "            count+=1\n",
    "    if count <= 2:\n",
    "        print(i,'prime for loop')\n",
    "    count=0\n",
    "\n",
    "i = 151\n",
    "while (i<=180):\n",
    "    count = 0\n",
    "    j = 1\n",
    "    while (j<=i):\n",
    "        if i%j==0:\n",
    "            count+=1\n",
    "        j+=1\n",
    "    if count<=2:\n",
    "        print(i,'prime while loop')\n",
    "    i+=1"
   ]
  },
  {
   "cell_type": "code",
   "execution_count": 12,
   "metadata": {},
   "outputs": [
    {
     "name": "stdout",
     "output_type": "stream",
     "text": [
      "0\n",
      "1\n",
      "2\n",
      "3\n",
      "4\n",
      "5\n",
      "6\n",
      "7\n",
      "8\n",
      "9\n",
      "10\n"
     ]
    }
   ],
   "source": [
    "# break statement ----------\n",
    "\n",
    "# for i in range(10):\n",
    "#     print(i)\n",
    "#     if i == 4:\n",
    "#         break\n",
    "\n",
    "i=0\n",
    "while(True):\n",
    "    if i==11:\n",
    "        break\n",
    "    print(i)\n",
    "    i=i+1"
   ]
  },
  {
   "cell_type": "code",
   "execution_count": 25,
   "metadata": {},
   "outputs": [
    {
     "name": "stdout",
     "output_type": "stream",
     "text": [
      "1,1\t1,2\t1,3\t\n"
     ]
    }
   ],
   "source": [
    "for i in range(1,4):\n",
    "    if i==2:\n",
    "        break\n",
    "    for j in range(1,4):\n",
    "        print(i, j, sep=',', end='\\t')\n",
    "    print('')"
   ]
  },
  {
   "cell_type": "code",
   "execution_count": 42,
   "metadata": {},
   "outputs": [
    {
     "name": "stdout",
     "output_type": "stream",
     "text": [
      "ello world\n",
      "Heo word"
     ]
    }
   ],
   "source": [
    "# continue -------------\n",
    "\n",
    "# for i in range(4):\n",
    "#     print(i)\n",
    "#     if i == 2 or i == 1:\n",
    "#         continue\n",
    "#     print(i)\n",
    "    \n",
    "s = \"Hello world\"\n",
    "for i in range(len(s)):\n",
    "    if s[i]=='H':\n",
    "        continue\n",
    "    print(s[i], end='')\n",
    "print()\n",
    "    \n",
    "for i in s:\n",
    "    if i == 'l':\n",
    "        continue\n",
    "    print(i, end='')\n"
   ]
  },
  {
   "cell_type": "code",
   "execution_count": 1,
   "metadata": {},
   "outputs": [
    {
     "name": "stdout",
     "output_type": "stream",
     "text": [
      "* \n",
      "* * \n",
      "* * * \n",
      "* * * * \n",
      "* * * * * \n",
      "* * * * * \n",
      "* * * * \n",
      "* * * \n",
      "* * \n",
      "* \n",
      "\n"
     ]
    }
   ],
   "source": [
    "# ******************************* Pattern problem *******************************\n",
    "\n",
    "# for i in range(4):\n",
    "#     print('* '*4)\n",
    "\n",
    "# for i in range(4):        # ------- Print the rectangular pattern -------\n",
    "#     for j in range(4):\n",
    "#         print('* ', end='')\n",
    "#     print()\n",
    "\n",
    "# s = 'abcdefghijklmnopqrstu'\n",
    "# index = 0\n",
    "# for i in range(4):\n",
    "#     print(s[index:index+4])\n",
    "#     index=index+4\n",
    "    \n",
    "# ------------ using ASCII value -------------\n",
    "# v = 0\n",
    "# for i in range(4):\n",
    "#     for j in range(4):\n",
    "#         print(chr(65+j+v), end='')\n",
    "#     print()\n",
    "#     v=v+4\n",
    "\n",
    "# for i in range(1,10):           # ------- Half pyramid-------\n",
    "#     print(''*(i-10), '* '*i)\n",
    "\n",
    "# for i in range(5,0,-1):        # ------- Reverse the half pyramid-------\n",
    "#     print(''*(i-5), '* '*i) \n",
    "\n",
    "\n",
    "rows = int(input(\"Enter the number of rows: \"))  \n",
    "for i in range(1,rows+1):                         # ------- Half pyramid using nested loop -------\n",
    "        for j in range(1, i + 1):  \n",
    "            print(\"*\", end=\" \")\n",
    "        print()\n",
    "\n",
    "rows = int(input(\"Enter the number of rows: \"))  \n",
    "for i in range(rows+1, 0, -1):                    # ------- Reverse the half pyramid using nested loop -------\n",
    "        for j in range(0, i - 1):  \n",
    "            print(\"*\", end=\" \")\n",
    "        print()"
   ]
  },
  {
   "cell_type": "code",
   "execution_count": 10,
   "metadata": {},
   "outputs": [
    {
     "name": "stdout",
     "output_type": "stream",
     "text": [
      "                     \n",
      "                     *\n",
      "                    * *\n",
      "                   * * *\n",
      "                  * * * *\n",
      "                 * * * * *\n",
      "                * * * * * *\n",
      "               * * * * * * *\n",
      "              * * * * * * * *\n",
      "             * * * * * * * * *\n",
      "            * * * * * * * * * *\n",
      "           * * * * * * * * * * *\n",
      "          * * * * * * * * * * * *\n",
      "         * * * * * * * * * * * * *\n",
      "        * * * * * * * * * * * * * *\n",
      "       * * * * * * * * * * * * * * *\n",
      "      * * * * * * * * * * * * * * * *\n",
      "     * * * * * * * * * * * * * * * * *\n",
      "    * * * * * * * * * * * * * * * * * *\n",
      "   * * * * * * * * * * * * * * * * * * *\n",
      "                 ********\n",
      "                 ********\n",
      "                 ********\n",
      "                 ********\n",
      "                 ********\n",
      "                 ********\n",
      "                 ********\n",
      "                 ********\n"
     ]
    }
   ],
   "source": [
    "num = 20\n",
    "for i in range(num):\n",
    "    print(' '*(num-i), ' *' *i)\n",
    "for i in range(int(num*0.4)):\n",
    "    print(' '*int(num*0.8), '**'* int(num*.2))"
   ]
  },
  {
   "cell_type": "code",
   "execution_count": 63,
   "metadata": {},
   "outputs": [
    {
     "name": "stdout",
     "output_type": "stream",
     "text": [
      "12\n"
     ]
    }
   ],
   "source": [
    "# ----------------- Convert decimal to octal -----------------\n",
    "\n",
    "decimal = 10\n",
    "result = ''\n",
    "while (decimal>0):\n",
    "        v = int(decimal%8)\n",
    "        result = str(v) + result\n",
    "        decimal = int(decimal/8)\n",
    "print(result)"
   ]
  },
  {
   "cell_type": "code",
   "execution_count": 64,
   "metadata": {},
   "outputs": [
    {
     "name": "stdout",
     "output_type": "stream",
     "text": [
      "A\n"
     ]
    }
   ],
   "source": [
    "# ------------------- convert decimal to hexa ------------------\n",
    "\n",
    "decimal = 10\n",
    "result = ''\n",
    "while (decimal>0):\n",
    "        v = int(decimal%16)\n",
    "        if v>9:\n",
    "            v = chr(v+55)\n",
    "        result = str(v) + result\n",
    "        decimal = int(decimal/16)\n",
    "print(result)"
   ]
  },
  {
   "cell_type": "code",
   "execution_count": 65,
   "metadata": {},
   "outputs": [
    {
     "name": "stdout",
     "output_type": "stream",
     "text": [
      "1010\n"
     ]
    }
   ],
   "source": [
    "# ------------------- convert decimal to binary ------------------\n",
    "\n",
    "decimal = 10\n",
    "result = ''\n",
    "while (decimal>0):\n",
    "        v = int(decimal%2)\n",
    "        result = str(v) + result\n",
    "        decimal = int(decimal/2)\n",
    "print(result)"
   ]
  },
  {
   "cell_type": "code",
   "execution_count": 67,
   "metadata": {},
   "outputs": [
    {
     "name": "stdout",
     "output_type": "stream",
     "text": [
      "10\n"
     ]
    }
   ],
   "source": [
    "# ------------------- convert decimal to decimal ------------------\n",
    "\n",
    "decimal = 10\n",
    "result = ''\n",
    "while (decimal>0):\n",
    "        v = int(decimal%10)\n",
    "        result = str(v) + result\n",
    "        decimal = int(decimal/10)\n",
    "print(result)"
   ]
  },
  {
   "cell_type": "code",
   "execution_count": 80,
   "metadata": {},
   "outputs": [
    {
     "name": "stdout",
     "output_type": "stream",
     "text": [
      "2\n"
     ]
    }
   ],
   "source": [
    "# ------------------- convert binary to decimal ------------------\n",
    "\n",
    "binary = 0b010\n",
    "result = ''\n",
    "while (binary>0):\n",
    "        v = int(binary%8)\n",
    "        result = str(v) + result\n",
    "        binary = int(binary/8)\n",
    "print(result)"
   ]
  },
  {
   "cell_type": "code",
   "execution_count": 82,
   "metadata": {},
   "outputs": [
    {
     "name": "stdout",
     "output_type": "stream",
     "text": [
      "96\n"
     ]
    }
   ],
   "source": [
    "# ------------------- convert Octal to decimal ------------------\n",
    "\n",
    "octal = 0o140\n",
    "result = ''\n",
    "while (octal>0):\n",
    "        v = int(octal%10)\n",
    "        result = str(v) + result\n",
    "        octal = int(octal/10)\n",
    "print(result)"
   ]
  },
  {
   "cell_type": "code",
   "execution_count": 110,
   "metadata": {},
   "outputs": [
    {
     "name": "stdout",
     "output_type": "stream",
     "text": [
      "hi\n",
      "None\n"
     ]
    }
   ],
   "source": [
    "# ------- Function's in Python -----------\n",
    "\n",
    "print(print('hi'))\n",
    "\n",
    "del a\n",
    "# a = None\n",
    "# print(id(a))\n",
    "# a=None\n",
    "# id(a)"
   ]
  },
  {
   "cell_type": "code",
   "execution_count": 17,
   "metadata": {},
   "outputs": [
    {
     "name": "stdout",
     "output_type": "stream",
     "text": [
      "6\n"
     ]
    },
    {
     "data": {
      "text/plain": [
       "6"
      ]
     },
     "execution_count": 17,
     "metadata": {},
     "output_type": "execute_result"
    }
   ],
   "source": [
    "def foo(a,b,c):    # a and b are parameters --------> parameters print kiye jate hai\n",
    "    print(a+b+c)\n",
    "    return a+b+c\n",
    "\n",
    "# foo(1,2)        # arguments -----> arguments pass kiye jate hai \n",
    "                  # by default positional arguments\n",
    "\n",
    "foo(a=1,b=2,c=3) # ------ keyword arguments"
   ]
  },
  {
   "cell_type": "code",
   "execution_count": 18,
   "metadata": {},
   "outputs": [
    {
     "data": {
      "text/plain": [
       "builtin_function_or_method"
      ]
     },
     "execution_count": 18,
     "metadata": {},
     "output_type": "execute_result"
    }
   ],
   "source": [
    "type(id)"
   ]
  },
  {
   "cell_type": "code",
   "execution_count": 130,
   "metadata": {},
   "outputs": [
    {
     "data": {
      "text/plain": [
       "140736052978128"
      ]
     },
     "execution_count": 130,
     "metadata": {},
     "output_type": "execute_result"
    }
   ],
   "source": [
    "# del id\n",
    "\n",
    "a=None\n",
    "id(a)"
   ]
  },
  {
   "cell_type": "code",
   "execution_count": 19,
   "metadata": {},
   "outputs": [
    {
     "name": "stdout",
     "output_type": "stream",
     "text": [
      "last digit 1 base 1\n",
      "last digit 1 base 2\n",
      "last digit 1 base 4\n",
      "The decimal value is:  7\n"
     ]
    }
   ],
   "source": [
    "def AnyToDecimal( num:str, from_base:int)->any:\n",
    "    from_base = int(from_base)\n",
    "    decimal_value = 0\n",
    "    base = 1\n",
    "    num = str(num)\n",
    "    while (num):\n",
    "        for i in num[::-1]:\n",
    "                if i in '0123456789':\n",
    "                    last_digit=int(i)\n",
    "                else:\n",
    "                    last_digit = ord(i)-55\n",
    "                print('last digit', last_digit, 'base', base)\n",
    "                num = num[:-1]\n",
    "                decimal_value += last_digit * base\n",
    "                base = base * from_base\n",
    "    print(\"The decimal value is: \", decimal_value)\n",
    "    \n",
    "\n",
    "AnyToDecimal('111', 2)"
   ]
  },
  {
   "cell_type": "code",
   "execution_count": 34,
   "metadata": {},
   "outputs": [],
   "source": [
    "a,b = (1,2)\n",
    "\n",
    "temp = a\n",
    "a=b\n",
    "b=temp"
   ]
  },
  {
   "cell_type": "code",
   "execution_count": 37,
   "metadata": {},
   "outputs": [
    {
     "data": {
      "text/plain": [
       "1"
      ]
     },
     "execution_count": 37,
     "metadata": {},
     "output_type": "execute_result"
    }
   ],
   "source": [
    "b"
   ]
  },
  {
   "cell_type": "code",
   "execution_count": 41,
   "metadata": {},
   "outputs": [
    {
     "data": {
      "text/plain": [
       "[]"
      ]
     },
     "execution_count": 41,
     "metadata": {},
     "output_type": "execute_result"
    }
   ],
   "source": [
    "*b,a,c,d,e = 10, 20, 30, 40\n",
    "# *b is aribitry \n",
    "b"
   ]
  },
  {
   "cell_type": "code",
   "execution_count": 45,
   "metadata": {},
   "outputs": [
    {
     "name": "stdout",
     "output_type": "stream",
     "text": [
      "<class 'tuple'>\n"
     ]
    },
    {
     "data": {
      "text/plain": [
       "130"
      ]
     },
     "execution_count": 45,
     "metadata": {},
     "output_type": "execute_result"
    }
   ],
   "source": [
    "def sum(*num):\n",
    "    result = 0\n",
    "    print(type(num))\n",
    "    for i in num:\n",
    "        result += i\n",
    "    return result\n",
    "\n",
    "sum(1,2,33,44,50)"
   ]
  },
  {
   "cell_type": "code",
   "execution_count": 18,
   "metadata": {},
   "outputs": [
    {
     "data": {
      "text/plain": [
       "24"
      ]
     },
     "execution_count": 18,
     "metadata": {},
     "output_type": "execute_result"
    }
   ],
   "source": [
    "# Factorial program\n",
    "# 4*3*2*1 = total\n",
    "def factorial(num):\n",
    "    fact = 1\n",
    "    for i in range(1, num + 1):\n",
    "        fact = fact * i\n",
    "    return fact\n",
    "\n",
    "factorial(4)\n",
    "    "
   ]
  },
  {
   "cell_type": "code",
   "execution_count": 2,
   "metadata": {},
   "outputs": [
    {
     "data": {
      "text/plain": [
       "24"
      ]
     },
     "execution_count": 2,
     "metadata": {},
     "output_type": "execute_result"
    }
   ],
   "source": [
    "# print the factorial using recursion \n",
    "def factorial(num):\n",
    "    if num == 0:\n",
    "        return 1\n",
    "    else:\n",
    "        return num * factorial(num-1)\n",
    "    \n",
    "factorial(4)"
   ]
  },
  {
   "cell_type": "code",
   "execution_count": 9,
   "metadata": {},
   "outputs": [
    {
     "name": "stdout",
     "output_type": "stream",
     "text": [
      "5 X 1 = 5\n",
      "5 X 2 = 10\n",
      "5 X 3 = 15\n",
      "5 X 4 = 20\n",
      "5 X 5 = 25\n",
      "5 X 6 = 30\n",
      "5 X 7 = 35\n",
      "5 X 8 = 40\n",
      "5 X 9 = 45\n",
      "5 X 10 = 50\n"
     ]
    }
   ],
   "source": [
    "# Print table using recursion\n",
    "def table(N, i=1):\n",
    "     \n",
    "    if (i > 10):\n",
    "        return \n",
    "    print(f'{N} X {i} = {N * i}')\n",
    "     \n",
    "    return table(N, i + 1)\n",
    "\n",
    "table(5)"
   ]
  },
  {
   "cell_type": "code",
   "execution_count": 21,
   "metadata": {},
   "outputs": [
    {
     "name": "stdout",
     "output_type": "stream",
     "text": [
      "5 X 10 = 50\n",
      "5 X 11 = 55\n",
      "5 X 12 = 60\n",
      "5 X 13 = 65\n",
      "5 X 14 = 70\n"
     ]
    }
   ],
   "source": [
    "def table(N, start,stop):\n",
    "     \n",
    "    if (start == stop):\n",
    "        return None\n",
    "    print(f'{N} X {start} = {N * start}')\n",
    "     \n",
    "    return table(N, start + 1, stop)\n",
    "\n",
    "table(5,10,15)"
   ]
  },
  {
   "cell_type": "code",
   "execution_count": 29,
   "metadata": {},
   "outputs": [
    {
     "name": "stdout",
     "output_type": "stream",
     "text": [
      "0 0\n",
      "1 1\n",
      "2 2\n",
      "3\n"
     ]
    },
    {
     "data": {
      "text/plain": [
       "10"
      ]
     },
     "execution_count": 29,
     "metadata": {},
     "output_type": "execute_result"
    }
   ],
   "source": [
    "def sum_of_digit(num, index=0):\n",
    "    num=str(num)\n",
    "    if not num[index:]:\n",
    "        print(index)\n",
    "        return 0\n",
    "    else:\n",
    "        print(index,index)\n",
    "        val = int(num[index])\n",
    "        return val + sum_of_digit(num, index+1)\n",
    "        \n",
    "sum_of_digit(343)"
   ]
  },
  {
   "cell_type": "code",
   "execution_count": 33,
   "metadata": {},
   "outputs": [],
   "source": [
    " #lambda is a anonimous function \n",
    "a = lambda x,y,z: x*y*z\n",
    "# lambda parameter : return statement"
   ]
  },
  {
   "cell_type": "code",
   "execution_count": 35,
   "metadata": {},
   "outputs": [
    {
     "data": {
      "text/plain": [
       "6"
      ]
     },
     "execution_count": 35,
     "metadata": {},
     "output_type": "execute_result"
    }
   ],
   "source": [
    "a(1,2,3)"
   ]
  },
  {
   "cell_type": "code",
   "execution_count": 41,
   "metadata": {},
   "outputs": [
    {
     "name": "stdout",
     "output_type": "stream",
     "text": [
      "[1, 16, 81, 256, 625, 1296, 2401, 4096]\n"
     ]
    }
   ],
   "source": [
    "t = [1,2,3,4,5,6,7,8]\n",
    "for i in range(len(t)):\n",
    "    t[i] = t[i]**2\n",
    "\n",
    "for i in range(len(t)):\n",
    "    a = lambda x : x**2\n",
    "    t[i] = a(t[i])\n",
    "    \n",
    "print(t)"
   ]
  },
  {
   "cell_type": "code",
   "execution_count": 44,
   "metadata": {},
   "outputs": [
    {
     "name": "stdout",
     "output_type": "stream",
     "text": [
      "before 0 11\t\tAfter 0 121\n",
      "before 1 12\t\tAfter 1 144\n",
      "before 2 13\t\tAfter 2 169\n",
      "before 3 14\t\tAfter 3 196\n",
      "before 4 15\t\tAfter 4 225\n",
      "before 5 16\t\tAfter 5 256\n",
      "before 6 17\t\tAfter 6 289\n",
      "before 7 18\t\tAfter 7 324\n"
     ]
    }
   ],
   "source": [
    "t = [11,12,13,14,15,16,17,18]\n",
    "for i in range(len(t)):\n",
    "    print('before', i, t[i], end='\\t\\t')\n",
    "    t[i] = t[i]**2\n",
    "    print('After', i, t[i])"
   ]
  },
  {
   "cell_type": "code",
   "execution_count": 8,
   "metadata": {},
   "outputs": [
    {
     "name": "stdout",
     "output_type": "stream",
     "text": [
      "<map object at 0x000001876C4BF790>\n"
     ]
    }
   ],
   "source": [
    "t = [11,12,13,14,15,16,17,18]\n",
    "t = (map(lambda x: x**2, t))    #map krta hai function as a argument \n",
    "print(t)"
   ]
  },
  {
   "cell_type": "code",
   "execution_count": 40,
   "metadata": {},
   "outputs": [
    {
     "name": "stdout",
     "output_type": "stream",
     "text": [
      "[11, 13, 15, 17, 18]\n"
     ]
    }
   ],
   "source": [
    "t = [11,-12,13,-14,15,-16,17,18]\n",
    "t = list(filter(lambda x:True if x>0 else False, t))     \n",
    "print(t)"
   ]
  },
  {
   "cell_type": "code",
   "execution_count": 13,
   "metadata": {},
   "outputs": [
    {
     "data": {
      "text/plain": [
       "10"
      ]
     },
     "execution_count": 13,
     "metadata": {},
     "output_type": "execute_result"
    }
   ],
   "source": [
    "def times(num):\n",
    "    def inner(x):\n",
    "        if 1>2:\n",
    "            pass\n",
    "        else:\n",
    "            return x*num\n",
    "    return inner\n",
    "    # return lambda x:x*num \n",
    "\n",
    "double = times(2)\n",
    "double(5)\n",
    "# triple = times(3)\n",
    "# triple(10)"
   ]
  },
  {
   "cell_type": "code",
   "execution_count": 18,
   "metadata": {},
   "outputs": [
    {
     "name": "stdout",
     "output_type": "stream",
     "text": [
      "Local variable a is 3, and memory location 140713446078968\n",
      "30\n",
      "global variable a 10\n"
     ]
    }
   ],
   "source": [
    "a = 10 \n",
    "def foo(x):\n",
    "    a = 3\n",
    "    print(f'Local variable a is {a}, and memory location {id(a)}')\n",
    "    return x*a\n",
    "print(foo(10))\n",
    "\n",
    "print('global variable a', a)"
   ]
  },
  {
   "cell_type": "code",
   "execution_count": 21,
   "metadata": {},
   "outputs": [
    {
     "name": "stdout",
     "output_type": "stream",
     "text": [
      "Local variable a is hello world, and memory location 1681149989744\n",
      "\n",
      "global variable a hello world 122\n"
     ]
    }
   ],
   "source": [
    "a = 10 \n",
    "def foo(x):\n",
    "    global a, baba\n",
    "    baba=122\n",
    "    a = 'hello world'\n",
    "    print(f'Local variable a is {a}, and memory location {id(a)}')\n",
    "    return x*a\n",
    "print(foo(0))\n",
    "\n",
    "print('global variable a', a, baba)"
   ]
  },
  {
   "cell_type": "code",
   "execution_count": 29,
   "metadata": {},
   "outputs": [
    {
     "name": "stdout",
     "output_type": "stream",
     "text": [
      "inside inner function\n",
      "inside inner function\n",
      "here\n"
     ]
    }
   ],
   "source": [
    "a = 10 \n",
    "def foo(x):\n",
    "    summer =0  \n",
    "    def inner():\n",
    "        global a\n",
    "        nonlocal summer\n",
    "        a = 'inside inner function'\n",
    "        summer = 'inside inner function'\n",
    "        print(summer)\n",
    "    inner()\n",
    "    print(summer)\n",
    "    return 'here'\n",
    "    # print(f'Local variable a is {a}, and memory location {id(a)}')\n",
    "    # return x*a\n",
    "    \n",
    "print(foo(0))"
   ]
  },
  {
   "cell_type": "code",
   "execution_count": 69,
   "metadata": {},
   "outputs": [],
   "source": [
    "# Closure functions\n",
    "def counter():\n",
    "    sum = 0\n",
    "    def inner(x):\n",
    "        nonlocal sum\n",
    "        sum += x\n",
    "        return sum\n",
    "    return inner\n",
    "\n",
    "count1 = counter()\n",
    "count2 = counter()\n",
    "count3 = counter()\n"
   ]
  },
  {
   "cell_type": "code",
   "execution_count": 70,
   "metadata": {},
   "outputs": [
    {
     "data": {
      "text/plain": [
       "2"
      ]
     },
     "execution_count": 70,
     "metadata": {},
     "output_type": "execute_result"
    }
   ],
   "source": [
    "count1(2)"
   ]
  },
  {
   "cell_type": "code",
   "execution_count": 66,
   "metadata": {},
   "outputs": [
    {
     "name": "stdout",
     "output_type": "stream",
     "text": [
      "[1, 4, 9, 16]\n",
      "['hh', 'ee', 'll', 'll', 'oo']\n",
      "('hello hello ',)\n"
     ]
    }
   ],
   "source": [
    "a1 = list(map(lambda x : x**2, [1,2,3,4])) \n",
    "print(a1)\n",
    "a = list(map(lambda x : x*2, ('hello')))\n",
    "print(a)\n",
    "b = tuple(map(lambda x : x*2, ('hello ',)))\n",
    "print(b)"
   ]
  },
  {
   "cell_type": "code",
   "execution_count": 1,
   "metadata": {},
   "outputs": [],
   "source": [
    "# mutable/immutable and shallow copy/ deep copy\n",
    "# ------ shallow copy and deep copy ---------\n"
   ]
  },
  {
   "cell_type": "code",
   "execution_count": 21,
   "metadata": {},
   "outputs": [
    {
     "name": "stdout",
     "output_type": "stream",
     "text": [
      "<class 'tuple'>\n",
      "<class 'list'>\n",
      "['h', 'e', 'l', 'l', 'o', ' ', 'w', 'o', 'r', 'l', 'd']\n",
      "[1, 2, 3, 4, 5, 6, 7, 8]\n"
     ]
    },
    {
     "data": {
      "text/plain": [
       "list[1, 2, 3, 4, 5, 6, 7]"
      ]
     },
     "execution_count": 21,
     "metadata": {},
     "output_type": "execute_result"
    }
   ],
   "source": [
    "print(type((1,2,3,4,5,6,7,8)))\n",
    "print(type([1,2,3,4,5,6,7,8]))\n",
    "\n",
    "print(list('hello world'))          # list is like a array\n",
    "print(list(range(1,9)))\n",
    "list[1,2,3,4,5,6,7]"
   ]
  },
  {
   "cell_type": "code",
   "execution_count": 36,
   "metadata": {},
   "outputs": [
    {
     "data": {
      "text/plain": [
       "[10, 11, 12, 13, 14, 15, 16, 17, 18, 19, 20]"
      ]
     },
     "execution_count": 36,
     "metadata": {},
     "output_type": "execute_result"
    }
   ],
   "source": [
    "a = list(range(10,21))\n",
    "a"
   ]
  },
  {
   "cell_type": "code",
   "execution_count": 37,
   "metadata": {},
   "outputs": [
    {
     "name": "stdout",
     "output_type": "stream",
     "text": [
      "10 11 12 13 14 15 16 17 18 19 20 "
     ]
    }
   ],
   "source": [
    "# a[1:4]\n",
    "\n",
    "for i in a:\n",
    "    print(i, end=' ')"
   ]
  },
  {
   "cell_type": "code",
   "execution_count": 39,
   "metadata": {},
   "outputs": [
    {
     "name": "stdout",
     "output_type": "stream",
     "text": [
      "index: 0 at value: 10\n",
      "index: 1 at value: 11\n",
      "index: 2 at value: 12\n",
      "index: 3 at value: 13\n",
      "index: 4 at value: 14\n",
      "index: 5 at value: 15\n",
      "index: 6 at value: 16\n",
      "index: 7 at value: 17\n",
      "index: 8 at value: 18\n",
      "index: 9 at value: 19\n",
      "index: 10 at value: 20\n"
     ]
    }
   ],
   "source": [
    "for index,value in enumerate(a):\n",
    "    print(f'index: {index} at value: {value}')"
   ]
  },
  {
   "cell_type": "code",
   "execution_count": 1,
   "metadata": {},
   "outputs": [
    {
     "name": "stdout",
     "output_type": "stream",
     "text": [
      "0\n",
      "1\n",
      "2\n",
      "3\n",
      "4\n",
      "5\n",
      "6\n",
      "7\n",
      "8\n",
      "9\n"
     ]
    }
   ],
   "source": [
    "for i in range(10):\n",
    "    print(i)\n",
    "    i=9\n",
    "    # print(i)"
   ]
  },
  {
   "cell_type": "code",
   "execution_count": 23,
   "metadata": {},
   "outputs": [],
   "source": [
    "a =['a', 1, 'hello', 10.3, 12+1j, [1,[2,4,2,5,6],3,4], print]"
   ]
  },
  {
   "cell_type": "code",
   "execution_count": 24,
   "metadata": {},
   "outputs": [
    {
     "name": "stdout",
     "output_type": "stream",
     "text": [
      "hellow\n"
     ]
    },
    {
     "data": {
      "text/plain": [
       "[4, 2]"
      ]
     },
     "execution_count": 24,
     "metadata": {},
     "output_type": "execute_result"
    }
   ],
   "source": [
    "a[-1]('hellow')\n",
    "a[5][1][1:3]"
   ]
  },
  {
   "cell_type": "code",
   "execution_count": 7,
   "metadata": {},
   "outputs": [],
   "source": [
    "db = hash('12345678@')   # user give the 12345678@ password where this stores in database"
   ]
  },
  {
   "cell_type": "code",
   "execution_count": 8,
   "metadata": {},
   "outputs": [],
   "source": [
    "password = '12345678'    # next time user give this password where it was wrong pw"
   ]
  },
  {
   "cell_type": "code",
   "execution_count": 9,
   "metadata": {},
   "outputs": [
    {
     "data": {
      "text/plain": [
       "False"
      ]
     },
     "execution_count": 9,
     "metadata": {},
     "output_type": "execute_result"
    }
   ],
   "source": [
    "db == hash(password)    "
   ]
  },
  {
   "cell_type": "code",
   "execution_count": 44,
   "metadata": {},
   "outputs": [
    {
     "data": {
      "text/plain": [
       "[3, 2, 1]"
      ]
     },
     "execution_count": 44,
     "metadata": {},
     "output_type": "execute_result"
    }
   ],
   "source": [
    "a = [1,2,3]\n",
    "a.reverse             # reverse is method\n",
    "list(reversed(a))     # reversed is function "
   ]
  },
  {
   "cell_type": "code",
   "execution_count": 58,
   "metadata": {},
   "outputs": [
    {
     "name": "stdout",
     "output_type": "stream",
     "text": [
      "[1, 2, 3, 4, 5, 6]\n",
      "[1, 2, 3, 4, 5, 6]\n"
     ]
    }
   ],
   "source": [
    "# shallow copy\n",
    "\n",
    "a = [1,2,3,4,5,6]\n",
    "b=a\n",
    "print(a,b,sep='\\n')\n"
   ]
  },
  {
   "cell_type": "code",
   "execution_count": 59,
   "metadata": {},
   "outputs": [
    {
     "name": "stdout",
     "output_type": "stream",
     "text": [
      "[1, 2, 3, 4, 5, 6, 7, 8]\n",
      "[1, 2, 3, 4, 5, 6, 7, 8]\n",
      "1553427327104\n",
      "1553427327104\n"
     ]
    }
   ],
   "source": [
    "b.append(7)\n",
    "b.append(8)\n",
    "print(a,b,sep='\\n')\n",
    "print(id(a),id(b),sep='\\n')"
   ]
  },
  {
   "cell_type": "code",
   "execution_count": 60,
   "metadata": {},
   "outputs": [
    {
     "name": "stdout",
     "output_type": "stream",
     "text": [
      "[1, 2, 3, 4, 5, 6]\n",
      "[1, 2, 3, 4, 5, 6]\n"
     ]
    }
   ],
   "source": [
    "# Deep copy\n",
    "\n",
    "a = [1,2,3,4,5,6]\n",
    "b=a.copy()\n",
    "print(a,b,sep='\\n')"
   ]
  },
  {
   "cell_type": "code",
   "execution_count": 61,
   "metadata": {},
   "outputs": [
    {
     "name": "stdout",
     "output_type": "stream",
     "text": [
      "[1, 2, 3, 4, 5, 6]\n",
      "[1, 2, 3, 4, 5, 6, 7, 8]\n",
      "1553427651520\n",
      "1553427091264\n"
     ]
    }
   ],
   "source": [
    "b.append(7)\n",
    "b.append(8)\n",
    "print(a,b,sep='\\n')\n",
    "print(id(a),id(b),sep='\\n')"
   ]
  },
  {
   "cell_type": "code",
   "execution_count": 74,
   "metadata": {},
   "outputs": [
    {
     "name": "stdout",
     "output_type": "stream",
     "text": [
      "[1, 2, 3, 4, 5, 6, 7, 8, 'hi', 'h', 'e', 'l', 'l', 'o']\n"
     ]
    }
   ],
   "source": [
    "a = [1, 2, 3, 4, 5, 6, 7, 8]\n",
    "a.append('hi')\n",
    "a.extend('hello')\n",
    "print(a)"
   ]
  },
  {
   "cell_type": "code",
   "execution_count": 11,
   "metadata": {},
   "outputs": [
    {
     "name": "stdout",
     "output_type": "stream",
     "text": [
      "None\n",
      "[1, 2, 3, 4, 5, 6, 7, 8, 13]\n",
      "[1, 2, 3, 4, 5, 6, 7, 8, 13]\n",
      "1\n",
      "None\n",
      "index 2\n",
      "None\n",
      "4\n",
      "[1, 2, 3, 4, 5, 6, 7, 8, 13, 1, 2, 3, 23]\n",
      "None\n",
      "[1, 2, 3, 4, 5, 7, 8, 13, 1, 2, 3, 23]\n",
      "None\n",
      "[23, 3, 2, 1, 13, 8, 7, 5, 4, 3, 2, 1]\n",
      "sort None\n",
      "sort [1, 1, 2, 2, 3, 3, 4, 5, 7, 8, 13, 23]\n",
      "None\n",
      "[]\n"
     ]
    }
   ],
   "source": [
    "# list \n",
    "a = [1, 2, 3, 4, 5, 6, 7, 8]\n",
    "\n",
    "print(a.append(13))\n",
    "print(a)\n",
    "print(a.copy())\n",
    "print(a.count(1))\n",
    "print(a.extend([1,2,3,4]))\n",
    "print('index',a.index(3))\n",
    "print(a.insert(-1, 23))\n",
    "print(a.pop())\n",
    "print(a)\n",
    "print(a.remove(6))\n",
    "print(a)\n",
    "print(a.reverse())\n",
    "print(a)\n",
    "print('sort',a.sort())\n",
    "print('sort',a)\n",
    "print(a.clear())\n",
    "print(a)"
   ]
  },
  {
   "cell_type": "code",
   "execution_count": 127,
   "metadata": {},
   "outputs": [
    {
     "data": {
      "text/plain": [
       "[2, 3, 9]"
      ]
     },
     "execution_count": 127,
     "metadata": {},
     "output_type": "execute_result"
    }
   ],
   "source": [
    "def position_of_char(char,string):\n",
    "    # string = list(string)\n",
    "    result = []\n",
    "    for i in range(len(string)):\n",
    "        if string[i] == char:  \n",
    "            result.append(i)\n",
    "    return result\n",
    "        \n",
    "position_of_char('l','hello world')"
   ]
  },
  {
   "cell_type": "code",
   "execution_count": 116,
   "metadata": {},
   "outputs": [
    {
     "data": {
      "text/plain": [
       "([2, 3, 9], 3)"
      ]
     },
     "execution_count": 116,
     "metadata": {},
     "output_type": "execute_result"
    }
   ],
   "source": [
    "def foo(char,string):\n",
    "    result = []\n",
    "    for ind,val in enumerate(string):\n",
    "        if val == char:\n",
    "            result.append(ind)\n",
    "    return result,len(result)\n",
    "    \n",
    "foo('l','hello world')"
   ]
  },
  {
   "cell_type": "code",
   "execution_count": 1,
   "metadata": {},
   "outputs": [
    {
     "data": {
      "text/plain": [
       "('e', 2)"
      ]
     },
     "execution_count": 1,
     "metadata": {},
     "output_type": "execute_result"
    }
   ],
   "source": [
    "a = 'Meeran Husain'\n",
    "\n",
    "def max_char(string):\n",
    "    result = dict()\n",
    "    for char in string:\n",
    "        if char in result:\n",
    "            result[char] +=1\n",
    "        else:\n",
    "            result[char] = 1\n",
    "    maximum = max(result.values())\n",
    "    # return result\n",
    "    for key,val in result.items():\n",
    "        if val == maximum:\n",
    "            return key, val\n",
    "\n",
    "max_char(a)"
   ]
  },
  {
   "cell_type": "code",
   "execution_count": 2,
   "metadata": {},
   "outputs": [
    {
     "data": {
      "text/plain": [
       "1"
      ]
     },
     "execution_count": 2,
     "metadata": {},
     "output_type": "execute_result"
    }
   ],
   "source": [
    "a = (1,)\n",
    "a.count(1)"
   ]
  },
  {
   "cell_type": "code",
   "execution_count": 20,
   "metadata": {},
   "outputs": [
    {
     "data": {
      "text/plain": [
       "[2, 3, 9]"
      ]
     },
     "execution_count": 20,
     "metadata": {},
     "output_type": "execute_result"
    }
   ],
   "source": [
    "def position_of_char(char,string):\n",
    "    # string = list(string)\n",
    "    result = []\n",
    "    for i in range(len(string)):\n",
    "        if string[i] == char:  \n",
    "            result.append(i)\n",
    "    return result\n",
    "        \n",
    "position_of_char('l','hello world')\n"
   ]
  },
  {
   "cell_type": "code",
   "execution_count": 34,
   "metadata": {},
   "outputs": [
    {
     "data": {
      "text/plain": [
       "[2, 3, 9]"
      ]
     },
     "execution_count": 34,
     "metadata": {},
     "output_type": "execute_result"
    }
   ],
   "source": [
    "def position_of_char(var,char):\n",
    "    var = str(var).lower()\n",
    "    char = str(char).lower()\n",
    "    index = 0\n",
    "    result = []\n",
    "    while index!= len(var)-1:\n",
    "        try:\n",
    "            r = var.index(char,index,-1)\n",
    "            result.append(r)\n",
    "            index = r+1\n",
    "        except:\n",
    "            return result\n",
    "    return result        \n",
    "            \n",
    "position_of_char('hello world','l')"
   ]
  },
  {
   "cell_type": "code",
   "execution_count": 38,
   "metadata": {},
   "outputs": [
    {
     "data": {
      "text/plain": [
       "{-1, 1, '1', 2, 3, 4, 5, 7, 8, 9, 'str'}"
      ]
     },
     "execution_count": 38,
     "metadata": {},
     "output_type": "execute_result"
    }
   ],
   "source": [
    "a = set([1,2,1,2,2,1,'str',4,-1,2,3,4,5,5,7,8,9,'1'])\n",
    "a"
   ]
  },
  {
   "cell_type": "code",
   "execution_count": 59,
   "metadata": {},
   "outputs": [],
   "source": [
    "b={1,2,3,9}"
   ]
  },
  {
   "cell_type": "code",
   "execution_count": 67,
   "metadata": {},
   "outputs": [
    {
     "name": "stdout",
     "output_type": "stream",
     "text": [
      "False\n",
      "True\n",
      "False\n",
      "{1, 2, 3, 4, 5, '1', 7, 8, 9, 'str', -1}\n",
      "{1, 2, 3, 9}\n",
      "set()\n",
      "None\n"
     ]
    }
   ],
   "source": [
    "# set methods    -----> set is undorderd \n",
    "\n",
    "print(b.isdisjoint(a))\n",
    "print(b.issubset(a))\n",
    "print(b.issuperset(a))\n",
    "print(b.union(a))\n",
    "print(b.intersection(a))\n",
    "print(b.difference(a))\n",
    "print(b.discard(a))\n",
    "print(b.pop(a))"
   ]
  },
  {
   "cell_type": "code",
   "execution_count": 15,
   "metadata": {},
   "outputs": [
    {
     "name": "stdout",
     "output_type": "stream",
     "text": [
      "{'key1': 1, 'key2': 2, 'key3': 3}\n"
     ]
    }
   ],
   "source": [
    "variable = dict(key1=1, key2=2, key3=3)\n",
    "print(variable)"
   ]
  },
  {
   "cell_type": "code",
   "execution_count": 1,
   "metadata": {},
   "outputs": [
    {
     "name": "stdout",
     "output_type": "stream",
     "text": [
      "Level 1\n",
      "Create 3 words using the given letters\n",
      "h\to\tl\ti\td\ta\ty\t\n",
      "Wrong Guess\n",
      "Wrong Guess\n",
      "Wrong Guess\n",
      "Wrong Guess\n",
      "Wrong Guess\n",
      "Game Over!! Better Luck Next Time!!\n",
      "Your score is 0\n"
     ]
    }
   ],
   "source": [
    "letters = [['h','o','l','i','d','a','y'],\n",
    "\n",
    "           ['p', 'r', 'o', 'g', 'r', 'a', 'm', 'm','i','n','g'],\n",
    "\n",
    "           ['b','o','o','t','c','a','m','p'],\n",
    "\n",
    "           ['f','l','o','w','c','h','a','r','t'],\n",
    "\n",
    "           ['w', 'o', 'r', 'd', 's', 'c', 'a','p','e','s']]\n",
    "\n",
    " \n",
    "\n",
    "words = [[\"hi\",\"hay\",\"day\",\"had\",\"lay\",\"dal\",\"lad\",\"lid\",\"hold\",\"lady\",\"hail\"],\n",
    "\n",
    "         [\"go\",\"an\",\"in\",\"no\",\"on\",\"map\",\"mom\",\"gap\",\"gag\",\"pig\",\"man\",\"ping\",\n",
    "\n",
    "          \"pong\",\"pram\",\"prom\",\"ramp\"],\n",
    "\n",
    "         [\"am\",\"at\",\"to\",\"cab\",\"cap\",\"cob\",\"cop\",\"map\",\"mop\",\"act\",\"bat\",\"camp\",\n",
    "\n",
    "          \"comb\",\"boom\",\"pact\",\"atom\"],\n",
    "\n",
    "         [\"of\",\"at\",\"or\",\"to\",\"caw\",\"cow\",\"how\",\"who\",\"calf\",\"claw\",\"flaw\",\"flow\",\n",
    "\n",
    "          \"fowl\",\"wolf\",\"crow\",\"half\"],\n",
    "\n",
    "         [\"we\",\"do\",\"as\",\"cap\",\"caw\",\"cop\",\"cow\",\"paw\",\"cod\",\"dew\",\"pad\",\"cape\",\n",
    "\n",
    "          \"cope\",\"crap\",\"crew\",\"crop\",\"pace\"]];\n",
    "\n",
    " \n",
    "\n",
    "lives = 5;\n",
    "\n",
    "level = 0;\n",
    "\n",
    "score = 0;\n",
    "\n",
    " \n",
    "\n",
    "while level < 5 :\n",
    "\n",
    "    print('Level {}'.format(level+1))\n",
    "\n",
    "    print('Create 3 words using the given letters')\n",
    "\n",
    " \n",
    "\n",
    "    for c in letters[level]:\n",
    "\n",
    "        print('{}\\t'.format(c),end='');\n",
    "\n",
    "    print()\n",
    "\n",
    " \n",
    "\n",
    "    wordCount = 0;\n",
    "\n",
    "\n",
    "\n",
    "    word = '';\n",
    "\n",
    "    oldWord = set();\n",
    "\n",
    " \n",
    "\n",
    "    while wordCount < 3:\n",
    "\n",
    "        match = False;       \n",
    "\n",
    "        word = input('Word: ')\n",
    "\n",
    " \n",
    "\n",
    "        if not(word.lower() in oldWord): \n",
    "\n",
    "            for w in words[level]:\n",
    "\n",
    "                if(word.lower() == w):\n",
    "\n",
    "                    wordCount += 1\n",
    "\n",
    "                    score += 1\n",
    "\n",
    "                    oldWord.add(word.lower())\n",
    "\n",
    "                    match = True\n",
    "\n",
    "                    break\n",
    "\n",
    " \n",
    "\n",
    "        if not match:\n",
    "\n",
    "            print('Wrong Guess')\n",
    "\n",
    "            lives -= 1\n",
    "\n",
    " \n",
    "\n",
    "        if lives == 0:\n",
    "\n",
    "            print('Game Over!! Better Luck Next Time!!')\n",
    "\n",
    "            print('Your score is {}'.format(score))\n",
    "\n",
    "            break\n",
    "\n",
    "       \n",
    "\n",
    "    wordCount = 0\n",
    "\n",
    "    match = False\n",
    "\n",
    "    word = ''\n",
    "\n",
    " \n",
    "\n",
    "    if lives == 0:\n",
    "\n",
    "        break\n",
    "\n",
    "    if level == 4:\n",
    "\n",
    "        print('Thanks for playing the game!!!')\n",
    "\n",
    "        print('Your score is {}'.format(score))\n",
    "\n",
    "        level += 1\n",
    "\n",
    "    else:\n",
    "\n",
    "        choice = input('Do you want to continue to next level? (y/n) ')\n",
    "\n",
    "        if(choice.lower()[0] == 'y'):\n",
    "\n",
    "            level += 1\n",
    "\n",
    "        else:\n",
    "\n",
    "            print('Thanks for playing the game!!!')\n",
    "\n",
    "            print('Your score is {}'.format(score))\n",
    "\n",
    "            break\n",
    "        "
   ]
  },
  {
   "cell_type": "code",
   "execution_count": 2,
   "metadata": {},
   "outputs": [],
   "source": [
    "letters = [['h','o','l','i','d','a','y'],       \n",
    "\n",
    "           ['p', 'r', 'o', 'g', 'r', 'a', 'm', 'm','i','n','g'],\n",
    "\n",
    "           ['b','o','o','t','c','a','m','p'],\n",
    "\n",
    "           ['f','l','o','w','c','h','a','r','t'],\n",
    "\n",
    "           ['w', 'o', 'r', 'd', 's', 'c', 'a','p','e','s']]"
   ]
  },
  {
   "cell_type": "code",
   "execution_count": 11,
   "metadata": {},
   "outputs": [
    {
     "data": {
      "text/plain": [
       "['f', 'l', 'o', 'w', 'c', 'h', 'a', 'r', 't']"
      ]
     },
     "execution_count": 11,
     "metadata": {},
     "output_type": "execute_result"
    }
   ],
   "source": [
    "letters[2][-2:-5:-1]\n",
    "letters[3]"
   ]
  },
  {
   "cell_type": "code",
   "execution_count": 16,
   "metadata": {},
   "outputs": [
    {
     "data": {
      "text/plain": [
       "['hello', 'world']"
      ]
     },
     "execution_count": 16,
     "metadata": {},
     "output_type": "execute_result"
    }
   ],
   "source": [
    "('hello world'.split(' '))"
   ]
  },
  {
   "cell_type": "code",
   "execution_count": 1,
   "metadata": {},
   "outputs": [
    {
     "name": "stdout",
     "output_type": "stream",
     "text": [
      "[\"Meeran Husain Shaikh. I'm 25 year old\\n\"]\n"
     ]
    },
    {
     "data": {
      "text/plain": [
       "'Done'"
      ]
     },
     "execution_count": 1,
     "metadata": {},
     "output_type": "execute_result"
    }
   ],
   "source": [
    "import os\n",
    "def word_count(path):\n",
    "    if not os.path.isfile(path):\n",
    "        return 'file does not exists!'\n",
    "    with open(path,'r') as file:\n",
    "        text = file.readlines()\n",
    "        print(text)\n",
    "        sum = 0\n",
    "        for line in text:\n",
    "            words = line.split()\n",
    "            count = len(words)\n",
    "            sum = sum+count\n",
    "        with open('new.text','w') as op_file:\n",
    "            op_file.writelines(text)\n",
    "            op_file.write('\\n')\n",
    "            op_file.write('Total words: ')\n",
    "            op_file.write(str(sum))\n",
    "    return 'Done'\n",
    "\n",
    "# print(r\"C:\\Users\\DELL\\Pictures\\Screenshots\\Screenshot 2024-07-19 212011.png {}\".format(a))\n",
    "word_count(r\"C:\\Users\\DELL\\Desktop\\result.txt\")"
   ]
  },
  {
   "cell_type": "code",
   "execution_count": 2,
   "metadata": {},
   "outputs": [
    {
     "data": {
      "text/plain": [
       "0"
      ]
     },
     "execution_count": 2,
     "metadata": {},
     "output_type": "execute_result"
    }
   ],
   "source": [
    "f = open(\"output.txt\",\"w\")\n",
    "f.write(f\"hello, world'\\n'hi\")\n",
    "r=open(\"output.txt\",\"w\")\n",
    "r.write('hello ')\n",
    "r.write('hello ')\n",
    "f.write('ardagain')\n",
    "r.write('this is again')\n",
    "r.seek(0)"
   ]
  },
  {
   "cell_type": "code",
   "execution_count": 3,
   "metadata": {},
   "outputs": [],
   "source": [
    "r=open('output.txt','r')"
   ]
  },
  {
   "cell_type": "code",
   "execution_count": 4,
   "metadata": {},
   "outputs": [
    {
     "data": {
      "text/plain": [
       "' this is again'"
      ]
     },
     "execution_count": 4,
     "metadata": {},
     "output_type": "execute_result"
    }
   ],
   "source": [
    "r.tell()\n",
    "r.seek(11,0)\n",
    "r.tell()\n",
    "r.readline()"
   ]
  },
  {
   "cell_type": "code",
   "execution_count": 5,
   "metadata": {},
   "outputs": [
    {
     "data": {
      "text/plain": [
       "''"
      ]
     },
     "execution_count": 5,
     "metadata": {},
     "output_type": "execute_result"
    }
   ],
   "source": [
    "r.readline()"
   ]
  },
  {
   "cell_type": "code",
   "execution_count": 6,
   "metadata": {},
   "outputs": [
    {
     "data": {
      "text/plain": [
       "''"
      ]
     },
     "execution_count": 6,
     "metadata": {},
     "output_type": "execute_result"
    }
   ],
   "source": [
    "r.readline()"
   ]
  },
  {
   "cell_type": "code",
   "execution_count": 7,
   "metadata": {},
   "outputs": [
    {
     "data": {
      "text/plain": [
       "''"
      ]
     },
     "execution_count": 7,
     "metadata": {},
     "output_type": "execute_result"
    }
   ],
   "source": [
    "r.readline()"
   ]
  },
  {
   "cell_type": "markdown",
   "metadata": {},
   "source": [
    "Exception Handling:-\n",
    "\n",
    "whenever you find or detect any suspicious code in your program or you may cause error at a run time put this block of code inside try and except block. which results in continue of the code.\n",
    "\n",
    "we can write multiple except block for the single try block which helps in multiple Exception."
   ]
  },
  {
   "cell_type": "code",
   "execution_count": 11,
   "metadata": {},
   "outputs": [],
   "source": [
    "def fun():\n",
    "    print('Hello this')\n",
    "    print('Hello that')\n",
    "    try:\n",
    "        2/0\n",
    "    except Exception as e:\n",
    "        print('Error: ', e)\n",
    "    print('Hello those')\n",
    "    print('Hello this')"
   ]
  },
  {
   "cell_type": "code",
   "execution_count": 14,
   "metadata": {},
   "outputs": [
    {
     "name": "stdout",
     "output_type": "stream",
     "text": [
      "Hello this\n",
      "Hello that\n",
      "Error:  division by zero\n",
      "Hello those\n",
      "Hello this\n"
     ]
    }
   ],
   "source": [
    "fun()"
   ]
  },
  {
   "cell_type": "code",
   "execution_count": 16,
   "metadata": {},
   "outputs": [],
   "source": [
    "def fun():\n",
    "    print('Hello this')\n",
    "    print('Hello that')\n",
    "    try:\n",
    "        2/0\n",
    "    except ZeroDivisionError as e:\n",
    "        print('Error: ', e)\n",
    "    print('Hello those')\n",
    "    print('Hello this')"
   ]
  },
  {
   "cell_type": "code",
   "execution_count": 18,
   "metadata": {},
   "outputs": [
    {
     "name": "stdout",
     "output_type": "stream",
     "text": [
      "Hello this\n",
      "Hello that\n",
      "Error:  division by zero\n",
      "Hello those\n",
      "Hello this\n"
     ]
    }
   ],
   "source": [
    "fun()"
   ]
  },
  {
   "cell_type": "markdown",
   "metadata": {},
   "source": [
    "raise exception is used to break the execution. "
   ]
  },
  {
   "cell_type": "code",
   "execution_count": 32,
   "metadata": {},
   "outputs": [
    {
     "name": "stdout",
     "output_type": "stream",
     "text": [
      "Hello this\n",
      "Hello that\n",
      "Error:  division by zero\n",
      "This is finally\n"
     ]
    },
    {
     "ename": "Exception",
     "evalue": "",
     "output_type": "error",
     "traceback": [
      "\u001b[1;31m---------------------------------------------------------------------------\u001b[0m",
      "\u001b[1;31mZeroDivisionError\u001b[0m                         Traceback (most recent call last)",
      "Cell \u001b[1;32mIn[32], line 6\u001b[0m, in \u001b[0;36mfun\u001b[1;34m()\u001b[0m\n\u001b[0;32m      5\u001b[0m \u001b[38;5;28;01mtry\u001b[39;00m:\n\u001b[1;32m----> 6\u001b[0m     \u001b[38;5;241;43m2\u001b[39;49m\u001b[38;5;241;43m/\u001b[39;49m\u001b[38;5;241;43m0\u001b[39;49m\n\u001b[0;32m      7\u001b[0m     \u001b[38;5;28mprint\u001b[39m(\u001b[38;5;124m'\u001b[39m\u001b[38;5;124mnext line\u001b[39m\u001b[38;5;124m'\u001b[39m)\n",
      "\u001b[1;31mZeroDivisionError\u001b[0m: division by zero",
      "\nDuring handling of the above exception, another exception occurred:\n",
      "\u001b[1;31mException\u001b[0m                                 Traceback (most recent call last)",
      "Cell \u001b[1;32mIn[32], line 16\u001b[0m\n\u001b[0;32m     13\u001b[0m     \u001b[38;5;28mprint\u001b[39m(\u001b[38;5;124m'\u001b[39m\u001b[38;5;124mHello those\u001b[39m\u001b[38;5;124m'\u001b[39m)\n\u001b[0;32m     14\u001b[0m     \u001b[38;5;28mprint\u001b[39m(\u001b[38;5;124m'\u001b[39m\u001b[38;5;124mHello this\u001b[39m\u001b[38;5;124m'\u001b[39m)\n\u001b[1;32m---> 16\u001b[0m \u001b[43mfun\u001b[49m\u001b[43m(\u001b[49m\u001b[43m)\u001b[49m\n",
      "Cell \u001b[1;32mIn[32], line 10\u001b[0m, in \u001b[0;36mfun\u001b[1;34m()\u001b[0m\n\u001b[0;32m      8\u001b[0m \u001b[38;5;28;01mexcept\u001b[39;00m \u001b[38;5;167;01mException\u001b[39;00m \u001b[38;5;28;01mas\u001b[39;00m e:\n\u001b[0;32m      9\u001b[0m     \u001b[38;5;28mprint\u001b[39m(\u001b[38;5;124m'\u001b[39m\u001b[38;5;124mError: \u001b[39m\u001b[38;5;124m'\u001b[39m, e)\n\u001b[1;32m---> 10\u001b[0m     \u001b[38;5;28;01mraise\u001b[39;00m \u001b[38;5;167;01mException\u001b[39;00m\n\u001b[0;32m     11\u001b[0m \u001b[38;5;28;01mfinally\u001b[39;00m:             \u001b[38;5;66;03m# finally always executed\u001b[39;00m\n\u001b[0;32m     12\u001b[0m     \u001b[38;5;28mprint\u001b[39m(\u001b[38;5;124m'\u001b[39m\u001b[38;5;124mThis is finally\u001b[39m\u001b[38;5;124m'\u001b[39m)\n",
      "\u001b[1;31mException\u001b[0m: "
     ]
    }
   ],
   "source": [
    "def fun():\n",
    "    print('Hello this')\n",
    "    print('Hello that')\n",
    "    \n",
    "    try:\n",
    "        2/0\n",
    "        print('next line')\n",
    "    except Exception as e:\n",
    "        print('Error: ', e)\n",
    "        raise Exception\n",
    "    finally:             # finally always executed\n",
    "        print('This is finally')\n",
    "    print('Hello those')\n",
    "    print('Hello this')\n",
    "\n",
    "fun()"
   ]
  },
  {
   "cell_type": "code",
   "execution_count": 46,
   "metadata": {},
   "outputs": [],
   "source": [
    "class MyException(Exception):\n",
    "    \n",
    "    \"\"\"Custom Exception class\"\"\"\n",
    "    def __str__(self) -> str:\n",
    "        return 'my Exception'"
   ]
  },
  {
   "cell_type": "code",
   "execution_count": 47,
   "metadata": {},
   "outputs": [
    {
     "ename": "MyException",
     "evalue": "my Exception",
     "output_type": "error",
     "traceback": [
      "\u001b[1;31m---------------------------------------------------------------------------\u001b[0m",
      "\u001b[1;31mMyException\u001b[0m                               Traceback (most recent call last)",
      "Cell \u001b[1;32mIn[47], line 1\u001b[0m\n\u001b[1;32m----> 1\u001b[0m \u001b[38;5;28;01mraise\u001b[39;00m MyException\n",
      "\u001b[1;31mMyException\u001b[0m: my Exception"
     ]
    }
   ],
   "source": [
    "raise MyException"
   ]
  },
  {
   "cell_type": "code",
   "execution_count": 49,
   "metadata": {},
   "outputs": [],
   "source": [
    "def check_available(a,b,d):\n",
    "    try:\n",
    "        for k,v in d.items():\n",
    "            if v == a and k != b:\n",
    "                raise MyException\n",
    "            elif v == b and k != a:\n",
    "                raise MyException\n",
    "    except  MyException as e:\n",
    "        print(e)"
   ]
  },
  {
   "cell_type": "code",
   "execution_count": 51,
   "metadata": {},
   "outputs": [
    {
     "name": "stdout",
     "output_type": "stream",
     "text": [
      "my Exception\n"
     ]
    }
   ],
   "source": [
    "check_available(1,2,{1:2,3:1})"
   ]
  }
 ],
 "metadata": {
  "kernelspec": {
   "display_name": "Python 3",
   "language": "python",
   "name": "python3"
  },
  "language_info": {
   "codemirror_mode": {
    "name": "ipython",
    "version": 3
   },
   "file_extension": ".py",
   "mimetype": "text/x-python",
   "name": "python",
   "nbconvert_exporter": "python",
   "pygments_lexer": "ipython3",
   "version": "3.12.3"
  }
 },
 "nbformat": 4,
 "nbformat_minor": 2
}
